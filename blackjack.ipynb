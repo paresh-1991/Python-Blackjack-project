{
 "cells": [
  {
   "cell_type": "code",
   "execution_count": 1,
   "metadata": {
    "collapsed": true,
    "deletable": true,
    "editable": true
   },
   "outputs": [],
   "source": [
    "from random import shuffle\n",
    "\n",
    "\n",
    "def deck(): # function creates a list of 52 cards in a deck, function not going to take any variables.\n",
    "    deck = []   # creates an empty list\n",
    "    for suit in ['H','S','D','C']:   # create for loop to insert in the list     \n",
    "        for rank in ['A','2','3','4','5','6','7','8','9','T','J','Q','K']:         \n",
    "            deck.append(suit+rank)              # Append the list\n",
    "    \n",
    "    shuffle(deck)  # shuffle the deck\n",
    "    \n",
    "    return deck   # return the shuffled deck\n",
    "\n",
    "def pointCount(myCards): # function to set the T-K, Ace cards value and count the points\n",
    "    myCount = 0  # variable to count the point sum.\n",
    "    aceCount = 0\n",
    "    \n",
    "    for i in myCards: # to check if any of cards is T,j,q,k and incrementing its points to count\n",
    "        if(i[1] == 'J' or i[1] == 'Q' or i[1] == 'K' or i[1] == 'T'):\n",
    "            myCount += 10 # if there is, then point addition of 10 points\n",
    "        elif(i[1] != 'A'):  # checking if ace has to be 11 or 1 depending on the value of point count of the cards.\n",
    "            myCount += int(i[1])\n",
    "        else:\n",
    "            aceCount += 1\n",
    "    if(aceCount == 1 and myCount <=10):\n",
    "        myCount += 11\n",
    "    elif(aceCount != 0):\n",
    "        myCount += 1\n",
    "        \n",
    "    return myCount\n",
    "\n",
    "def createPlayingHands(myDeck): # function to create dealer hand and player hand, and shuffle the cards two each to them\n",
    "    dealerHand = [] # empty dealer hand\n",
    "    playerHand = [] # empty player hand\n",
    "    dealerHand.append(myDeck.pop()) #\n",
    "    dealerHand.append(myDeck.pop()) # give dealer cards\n",
    "    playerHand.append(myDeck.pop()) #\n",
    "    playerHand.append(myDeck.pop()) # give player cards\n",
    "    \n",
    "    while(pointCount(dealerHand) <= 16): # Blackjack rule to not take card after point count for dealer hand is equalorless to 16\n",
    "        dealerHand.append(myDeck.pop())\n",
    "        \n",
    "    return [dealerHand,playerHand]\n",
    "\n",
    "def game(): # function for game loop \n",
    "    game = \"\" # game variable to see if game over or not\n",
    "    a = int(input(\"Place your bet \")) # to input the game bet user want to put\n",
    "    b = 2 # variable to mutiply bet by if user win the game\n",
    "    import math\n",
    "    myDeck = deck() # \n",
    "    hands = createPlayingHands(myDeck)  # creating player and dealer hand\n",
    "    dealer = hands[0]\n",
    "    player = hands[1]\n",
    "    \n",
    "    while(game!=\"exit\"):\n",
    "        dealerCount = pointCount(dealer) # count points of dealer and player\n",
    "        playerCount = pointCount(player)\n",
    "        \n",
    "        print (\"Dealer has:\")\n",
    "        print (dealer[0]) # only first card as we cant see dealer other cards till the user has choose to stay with his cards\n",
    "        \n",
    "        print (\"Player1 has:\")\n",
    "        print (player)\n",
    "        # basic rules for Blackjack for deciding the win\n",
    "        if(playerCount == 21): \n",
    "            print (\"Blackjack! Player Wins!!\",\" reward:\", a * b)\n",
    "            break\n",
    "        elif(playerCount >21):\n",
    "            print (\"Player BUSTS! With \" + str(playerCount) + \"points. Dealer Wins!\",\" reward:\", 0)\n",
    "        elif(dealerCount >21):\n",
    "            print (\"dealer BUSTS! With \" + str(dealerCount) + \"points. Player Wins!\", \" reward:\", a * b)\n",
    "            break\n",
    "        # after 2 cards option for user to go for another card or stand with the cards\n",
    "        game = input (\"What would you like to do? H: Hit, S: stand? \")\n",
    "    \n",
    "        if(game=='H'):\n",
    "            player.append(myDeck.pop())\n",
    "            \n",
    "        elif(playerCount>dealerCount):\n",
    "            print (\"Player Wins With \" + str(playerCount) + \"points!\",\" reward:\", a * b)\n",
    "            print (\"Dealer has: \"+ str(dealer) + \" or \" + str(dealerCount) + \"points\")\n",
    "            break\n",
    "        else:\n",
    "            print (\"Dealer Wins!\", \" reward:\", 0)\n",
    "            print (\"Dealer has: \"+ str(dealer) + \" or \" + str(dealerCount) + \"points\")\n",
    "            break\n",
    "    "
   ]
  },
  {
   "cell_type": "code",
   "execution_count": 2,
   "metadata": {
    "collapsed": false,
    "deletable": true,
    "editable": true
   },
   "outputs": [
    {
     "name": "stdout",
     "output_type": "stream",
     "text": [
      "Place your bet 10\n",
      "Dealer has:\n",
      "CA\n",
      "Player1 has:\n",
      "['DK', 'S2']\n",
      "What would you like to do? H: Hit, S: stand? H\n",
      "Dealer has:\n",
      "CA\n",
      "Player1 has:\n",
      "['DK', 'S2', 'H5']\n",
      "What would you like to do? H: Hit, S: stand? S\n",
      "Dealer Wins!  reward: 0\n",
      "Dealer has: ['CA', 'HJ'] or 21points\n"
     ]
    }
   ],
   "source": [
    "game()"
   ]
  }
 ],
 "metadata": {
  "kernelspec": {
   "display_name": "Python 3",
   "language": "python",
   "name": "python3"
  },
  "language_info": {
   "codemirror_mode": {
    "name": "ipython",
    "version": 3
   },
   "file_extension": ".py",
   "mimetype": "text/x-python",
   "name": "python",
   "nbconvert_exporter": "python",
   "pygments_lexer": "ipython3",
   "version": "3.5.2"
  }
 },
 "nbformat": 4,
 "nbformat_minor": 2
}
